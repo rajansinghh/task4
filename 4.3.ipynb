{
 "cells": [
  {
   "cell_type": "code",
   "execution_count": 4,
   "id": "d9641e6e",
   "metadata": {},
   "outputs": [],
   "source": [
    "import cv2\n",
    "\n",
    "image = cv2.imread(\"img1.png\")\n",
    "image2 = cv2.imread(\"img2.png\")\n",
    "\n",
    "image_resize = cv2.resize(image,(200,400))\n",
    "image2_resize = cv2.resize(image2,(200,400))\n",
    "\n",
    "h_concat = cv2.hconcat([image2_resize , image_resize])\n",
    "cv2.imshow(\"concate\",h_concat)\n",
    "cv2.waitKey()\n",
    "cv2.destroyAllWindows()\n",
    "\n",
    "v_concat = cv2.vconcat([image2_resize , image_resize])\n",
    "cv2.imshow(\"concate\",v_concat)\n",
    "cv2.waitKey()\n",
    "cv2.destroyAllWindows()"
   ]
  }
 ],
 "metadata": {
  "kernelspec": {
   "display_name": "Python 3",
   "language": "python",
   "name": "python3"
  },
  "language_info": {
   "codemirror_mode": {
    "name": "ipython",
    "version": 3
   },
   "file_extension": ".py",
   "mimetype": "text/x-python",
   "name": "python",
   "nbconvert_exporter": "python",
   "pygments_lexer": "ipython3",
   "version": "3.8.8"
  }
 },
 "nbformat": 4,
 "nbformat_minor": 5
}
