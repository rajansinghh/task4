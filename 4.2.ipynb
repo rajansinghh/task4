{
 "cells": [
  {
   "cell_type": "code",
   "execution_count": 5,
   "id": "b4a53798",
   "metadata": {},
   "outputs": [],
   "source": [
    "import cv2\n",
    "import numpy as np\n",
    "image = cv2.imread(\"img1.png\")\n",
    "image2 = cv2.imread(\"img2.png\")\n",
    "\n",
    "image_crop = image[100:400,300:680]\n",
    "image2[100:400,300:680] = image_crop\n",
    "cv2.imshow(\"new\",image2)\n",
    "cv2.waitKey()\n",
    "cv2.destroyAllWindows()\n",
    "\n",
    "image2_crop = image2[0:200,30:180]\n",
    "image[0:200,30:180] = image2_crop\n",
    "cv2.imshow(\"new2\",image)\n",
    "cv2.waitKey()\n",
    "cv2.destroyAllWindows()"
   ]
  }
 ],
 "metadata": {
  "kernelspec": {
   "display_name": "Python 3",
   "language": "python",
   "name": "python3"
  },
  "language_info": {
   "codemirror_mode": {
    "name": "ipython",
    "version": 3
   },
   "file_extension": ".py",
   "mimetype": "text/x-python",
   "name": "python",
   "nbconvert_exporter": "python",
   "pygments_lexer": "ipython3",
   "version": "3.8.8"
  }
 },
 "nbformat": 4,
 "nbformat_minor": 5
}
