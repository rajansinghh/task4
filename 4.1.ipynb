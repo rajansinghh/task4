{
 "cells": [
  {
   "cell_type": "code",
   "execution_count": 1,
   "id": "d2bc80ef",
   "metadata": {},
   "outputs": [],
   "source": [
    "import numpy \n",
    "import cv2\n",
    "image = numpy.zeros((500,1200,3))\n",
    "p1 = (150, 200)\n",
    "p2 = (280, 80)\n",
    "p3 = (400, 200)\n",
    "cv2.line(image, p1, p2, (0, 255, 0), 5)\n",
    "cv2.line(image, p2, p3, (255, 0, 0), 5)\n",
    "cv2.line(image, p1, p3, (0, 0, 120), 5)\n",
    "cv2.line(image,(300,200),(300,500),5)\n",
    "cv2.line(image,(280,200),(320,200),5)\n",
    "cv2.line(image,(300,400),(200,500),5)\n",
    "cv2.line(image,(300,400),(400,500),5)\n",
    "cv2.imshow('LW',image)\n",
    "cv2.waitKey()\n",
    "cv2.destroyAllWindows()"
   ]
  },
  {
   "cell_type": "code",
   "execution_count": 18,
   "id": "9d667be8",
   "metadata": {},
   "outputs": [
    {
     "data": {
      "text/plain": [
       "(781, 1912, 3)"
      ]
     },
     "execution_count": 18,
     "metadata": {},
     "output_type": "execute_result"
    }
   ],
   "source": [
    "img2.shape\n"
   ]
  }
 ],
 "metadata": {
  "kernelspec": {
   "display_name": "Python 3",
   "language": "python",
   "name": "python3"
  },
  "language_info": {
   "codemirror_mode": {
    "name": "ipython",
    "version": 3
   },
   "file_extension": ".py",
   "mimetype": "text/x-python",
   "name": "python",
   "nbconvert_exporter": "python",
   "pygments_lexer": "ipython3",
   "version": "3.8.8"
  }
 },
 "nbformat": 4,
 "nbformat_minor": 5
}
